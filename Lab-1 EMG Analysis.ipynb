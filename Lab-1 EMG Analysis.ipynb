{
 "cells": [
  {
   "cell_type": "markdown",
   "metadata": {},
   "source": [
    "# Lab 1/2 EMG Processing\n",
    "\n",
    "This lab will go into the basics of real-time classification using EMG signals. "
   ]
  },
  {
   "cell_type": "code",
   "execution_count": null,
   "metadata": {},
   "outputs": [],
   "source": [
    "import pandas as pd\n",
    "import numpy as np\n",
    "import scipy\n",
    "import scipy.signal\n",
    "import matplotlib.pyplot as plt"
   ]
  },
  {
   "cell_type": "code",
   "execution_count": null,
   "metadata": {},
   "outputs": [],
   "source": [
    "''' If you have pyqt installed, this command will pop out interactive windows for graphs'''\n",
    "%matplotlib qt"
   ]
  },
  {
   "cell_type": "markdown",
   "metadata": {},
   "source": [
    "# Myo Data Processing\n",
    "The following cells are for EMG data processing from the sample file"
   ]
  },
  {
   "cell_type": "code",
   "execution_count": null,
   "metadata": {},
   "outputs": [],
   "source": [
    "# Lets read in our data\n",
    "import os\n",
    "directory = 'Data/'\n",
    "path = 'p18_emg.csv'\n",
    "myo_df = pd.read_csv(directory + path)\n",
    "myo_df.columns = myo_df.columns.str.replace(' ', '')\n",
    "myo_df = myo_df.groupby('Arm').get_group('left') # This only needs to be done if you have two Myos running at the same time\n",
    "display(myo_df)"
   ]
  },
  {
   "cell_type": "markdown",
   "metadata": {},
   "source": [
    "## Plot EMG and IMU Channels"
   ]
  },
  {
   "cell_type": "code",
   "execution_count": null,
   "metadata": {},
   "outputs": [],
   "source": [
    "''' Plot Entire EMG signals'''\n",
    "for channel in range(1,9):\n",
    "    plt.figure()\n",
    "    ax = myo_df['EMG_' + str(channel)].plot()\n",
    "    plt.title('EMG_' + str(channel))\n",
    "    plt.ylabel('mVolts')\n",
    "    plt.xlabel('Time')\n",
    "\n",
    "for channel in ['X', 'Y', 'Z']:\n",
    "    plt.figure()\n",
    "    myo_df['Acc_' + channel].plot()\n",
    "    plt.title('Acc_' + str(channel))\n",
    "    plt.ylabel('g')\n",
    "    plt.xlabel('Time')"
   ]
  },
  {
   "cell_type": "markdown",
   "metadata": {},
   "source": [
    "## Get Descripitive Statistics for Raw Data"
   ]
  },
  {
   "cell_type": "code",
   "execution_count": null,
   "metadata": {},
   "outputs": [],
   "source": [
    "myo_df.describe()"
   ]
  },
  {
   "cell_type": "markdown",
   "metadata": {},
   "source": [
    "## Rectify the Signal"
   ]
  },
  {
   "cell_type": "code",
   "execution_count": null,
   "metadata": {
    "scrolled": true
   },
   "outputs": [],
   "source": [
    "rectified_df =myo_df.copy() # make copy of DF\n",
    "\n",
    "for col in ['EMG_' + str(i) for i in range(1, 9)]:\n",
    "    rectified_df[col] = rectified_df[col].apply(abs) # applys the absolute function to each channel\n",
    "    \n",
    "display(rectified_df)"
   ]
  },
  {
   "cell_type": "markdown",
   "metadata": {},
   "source": [
    "### Plot the Rectified Signals and Look at the new Means/Stdevs for each EMG Channel"
   ]
  },
  {
   "cell_type": "code",
   "execution_count": null,
   "metadata": {},
   "outputs": [],
   "source": [
    "'''Your Code Here'''\n",
    "\n",
    "'''Stop Coding Here'''"
   ]
  },
  {
   "cell_type": "markdown",
   "metadata": {},
   "source": [
    "### Apply a rolling average with a window size of 400 (2 seconds) and look at the new plots\n",
    "Look into Pandas rolling method (e.g, myo_df.rolling(400).mean())"
   ]
  },
  {
   "cell_type": "code",
   "execution_count": null,
   "metadata": {},
   "outputs": [],
   "source": [
    "'''Your code here'''\n",
    "\n",
    "'''Stop coding here'''"
   ]
  },
  {
   "cell_type": "markdown",
   "metadata": {},
   "source": [
    "### Advanced EMG Filtering\n",
    "Now, we are going to apply a bandpass filter to each EMG channel."
   ]
  },
  {
   "cell_type": "code",
   "execution_count": null,
   "metadata": {},
   "outputs": [],
   "source": [
    "import scipy as sp\n",
    "import scipy.signal\n",
    "\n",
    "def filteremg(emg, low_pass=3, sfreq=200, high_band=20, low_band=95):\n",
    "    \"\"\"\n",
    "    emg: EMG data\n",
    "    high: high-pass cut off frequency\n",
    "    low: low-pass cut off frequency\n",
    "    sfreq: sampling frequency\n",
    "    \"\"\"\n",
    "    # Zero mean emg signal\n",
    "    emg = emg - emg.mean()\n",
    "    \n",
    "    # normalise cut-off frequencies to sampling frequency\n",
    "    high_band = high_band/(sfreq/2)\n",
    "    low_band = low_band/(sfreq/2)\n",
    "    \n",
    "    \n",
    "    # create bandpass filter for EMG\n",
    "    b1, a1 = sp.signal.butter(4, [high_band,low_band], btype='bandpass', analog=True)\n",
    "    \n",
    "    # process EMG signal: filter EMG\n",
    "    emg_filtered = sp.signal.filtfilt(b1, a1, emg)    \n",
    "    \n",
    "    # process EMG signal: rectify\n",
    "    emg_rectified = abs(emg_filtered)\n",
    "    \n",
    "    # create lowpass filter and apply to rectified signal to get EMG envelope\n",
    "    low_pass = low_pass/(sfreq/2)\n",
    "    b2, a2 = sp.signal.butter(4, low_pass, fs=sfreq, btype='lowpass')\n",
    "    emg_envelope = sp.signal.lfilter(b2, a2, emg_rectified)\n",
    "    \n",
    "    return emg_envelope\n",
    "    \n",
    "\n",
    "filt_emg = myo_df.copy()\n",
    "emg_keys = ['EMG_' + str(i) for i in range(1, 9)]\n",
    "filt_emg[emg_keys] = filt_emg[emg_keys].apply(filteremg, raw=True)\n",
    "display(filt_emg)"
   ]
  },
  {
   "cell_type": "markdown",
   "metadata": {},
   "source": [
    "## Plot Filtered Signals and Get Mean/Stdev"
   ]
  },
  {
   "cell_type": "code",
   "execution_count": null,
   "metadata": {},
   "outputs": [],
   "source": [
    "''' Your code here'''\n",
    "\n",
    "\n",
    "''' Stop coding here'''"
   ]
  },
  {
   "cell_type": "code",
   "execution_count": null,
   "metadata": {},
   "outputs": [],
   "source": []
  },
  {
   "cell_type": "markdown",
   "metadata": {},
   "source": [
    "## Power Spectral Density\n",
    "Now, we are going to look at a PSF plot"
   ]
  },
  {
   "cell_type": "code",
   "execution_count": null,
   "metadata": {},
   "outputs": [],
   "source": [
    "f, Pxx_den = sp.signal.periodogram(filt_emg['EMG_1'], 200)\n",
    "plt.semilogy(f, Pxx_den)\n",
    "plt.ylim([1e-7, 1e2])\n",
    "plt.xlabel('frequency [Hz]')\n",
    "plt.ylabel('PSD [V**2/Hz]')\n",
    "plt.show()"
   ]
  },
  {
   "cell_type": "markdown",
   "metadata": {},
   "source": [
    "### Plot the PSD for each filtered EMG channel and Find the Max Power"
   ]
  },
  {
   "cell_type": "code",
   "execution_count": null,
   "metadata": {},
   "outputs": [],
   "source": [
    "''' Your Code Here'''\n",
    "\n",
    "''' Stop Coding Here'''"
   ]
  },
  {
   "cell_type": "code",
   "execution_count": null,
   "metadata": {},
   "outputs": [],
   "source": []
  },
  {
   "cell_type": "markdown",
   "metadata": {},
   "source": [
    "# Segmenting Data\n",
    "Using your collected timestamps, we are now going to look at each gesture: rock, paper, scissors"
   ]
  },
  {
   "cell_type": "code",
   "execution_count": null,
   "metadata": {},
   "outputs": [],
   "source": [
    "'''First, we need to set pandas indexes to timestamps'''\n",
    "myo_df.index = pd.to_datetime(myo_df['Timestamp'], format='%Y-%m-%d %H:%M:%S %f' )\n",
    "display(myo_df)"
   ]
  },
  {
   "cell_type": "code",
   "execution_count": null,
   "metadata": {},
   "outputs": [],
   "source": [
    "'''Then we can segment data using the indexes'''\n",
    "start = pd.to_datetime('2019-02-14 14:46:53')\n",
    "stop  = pd.to_datetime('2019-02-14 14:48:53')\n",
    "gesture_df = myo_df[start:stop]\n",
    "display(gesture_df)\n",
    "''' Notice that we did not need to specify the nano seconds'''"
   ]
  },
  {
   "cell_type": "markdown",
   "metadata": {},
   "source": [
    "## Reading in XDF\n",
    "Now we are going to read in from an XDF file"
   ]
  },
  {
   "cell_type": "code",
   "execution_count": null,
   "metadata": {},
   "outputs": [],
   "source": [
    "''' Imports and useful functions'''\n",
    "import pyxdf\n",
    "\n",
    "def xdf_to_dataframe(xdf_data):\n",
    "    ''' Xdf Data should be a list of streams (dictionaries)\n",
    "        Function returns a dictionary of dataframes, one dataframe per stream'''  \n",
    "    dataframes = {}\n",
    "    for stream in xdf_data:\n",
    "        df = pd.DataFrame()\n",
    "        data = stream['time_series']\n",
    "        timestamps = stream['time_stamps']\n",
    "        df['Time'] = timestamps\n",
    "        chan_names, units = get_channel_names(stream['info'])\n",
    "        counts = data.shape[0]\n",
    "        for series, name, unit in zip(range(data.shape[1]), chan_names, units):\n",
    "            df[name[0]]  = data[:, series]\n",
    "            df[name[0] + '_Unit'] = np.repeat(unit, counts)\n",
    "        \n",
    "        for item in stream['info']:\n",
    "            if item not in ['name', 'desc', 'data']:\n",
    "                try:\n",
    "                    df[item] = np.repeat(stream['info'][item], counts)\n",
    "                except:\n",
    "                    continue\n",
    "        dataframes[stream['info']['name'][0]] = df\n",
    "        \n",
    "    return dataframes\n",
    "            \n",
    "        \n",
    "        \n",
    "\n",
    "def get_channel_names(info):\n",
    "    channels = info['desc'][0]['channels'][0]['channel']\n",
    "    names = [chan['label'] for chan in channels ]\n",
    "    units = [chan['unit'] for chan in channels ]\n",
    "    return names, units"
   ]
  },
  {
   "cell_type": "code",
   "execution_count": null,
   "metadata": {},
   "outputs": [],
   "source": [
    "data, header = pyxdf.load_xdf('Data/test.xdf')\n",
    "dfs = xdf_to_dataframe(data)\n",
    "display(dfs['BioRadio-20312'])\n",
    "''' Save new dataframe'''\n",
    "dfs['BioRadio-20312'].to_csv('Data/test.csv')"
   ]
  },
  {
   "cell_type": "markdown",
   "metadata": {},
   "source": [
    "# Your turn!\n",
    "The above code introduced you to some simple EMG processing from already collected data, but now lets use your data.\n",
    "\n",
    "For the Myo and BioRadio, do the following for each EMG channel:\n",
    "- Import the files\n",
    "- Segment the data for one Rock, Paper, and Scissors gesture based on your collected timestamps\n",
    "- Filter each gesture\n",
    "- Plot the Filtered EMG signals and the Power Spectral Density of each Gesture\n",
    "- Determine the Max Power for each Gesture\n",
    "- Determine the mean/standard deviation for each Gesture\n",
    "\n",
    "Your report should include each plot in an appendix.\n",
    "\n",
    "In the main body of your report, include a table for each gesture that has columns: Device, EMG Channel Number, Mean, Std Dev, Max Power. Fill out the rows"
   ]
  },
  {
   "cell_type": "code",
   "execution_count": null,
   "metadata": {},
   "outputs": [],
   "source": [
    "\n",
    "    \n",
    "\n"
   ]
  },
  {
   "cell_type": "code",
   "execution_count": null,
   "metadata": {},
   "outputs": [],
   "source": []
  },
  {
   "cell_type": "code",
   "execution_count": null,
   "metadata": {},
   "outputs": [],
   "source": []
  },
  {
   "cell_type": "code",
   "execution_count": null,
   "metadata": {},
   "outputs": [],
   "source": []
  },
  {
   "cell_type": "code",
   "execution_count": null,
   "metadata": {},
   "outputs": [],
   "source": []
  },
  {
   "cell_type": "code",
   "execution_count": null,
   "metadata": {},
   "outputs": [],
   "source": []
  },
  {
   "cell_type": "code",
   "execution_count": null,
   "metadata": {},
   "outputs": [],
   "source": []
  },
  {
   "cell_type": "code",
   "execution_count": null,
   "metadata": {},
   "outputs": [],
   "source": []
  },
  {
   "cell_type": "code",
   "execution_count": null,
   "metadata": {},
   "outputs": [],
   "source": []
  },
  {
   "cell_type": "code",
   "execution_count": null,
   "metadata": {},
   "outputs": [],
   "source": []
  },
  {
   "cell_type": "code",
   "execution_count": null,
   "metadata": {},
   "outputs": [],
   "source": []
  }
 ],
 "metadata": {
  "kernelspec": {
   "display_name": "Python 3",
   "language": "python",
   "name": "python3"
  },
  "language_info": {
   "codemirror_mode": {
    "name": "ipython",
    "version": 3
   },
   "file_extension": ".py",
   "mimetype": "text/x-python",
   "name": "python",
   "nbconvert_exporter": "python",
   "pygments_lexer": "ipython3",
   "version": "3.8.8"
  }
 },
 "nbformat": 4,
 "nbformat_minor": 2
}
